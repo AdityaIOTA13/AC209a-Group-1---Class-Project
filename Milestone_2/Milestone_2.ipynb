{
 "cells": [
  {
   "cell_type": "markdown",
   "id": "99d961cd-a580-49dc-ac9e-44edc002e5ef",
   "metadata": {},
   "source": [
    "<div style=\"text-align:center;\">\n",
    "    <h1>Group 1, Milestone 2</h1>\n",
    "    <h2>AC209a, Fall 2024</h2>\n",
    "</div>"
   ]
  },
  {
   "cell_type": "markdown",
   "id": "d2eeec84-dcb6-4b49-8473-7e7bcdb2557b",
   "metadata": {},
   "source": [
    "The **scope** of our project is to examine the impact of the financing of climate-related projects in low-income countries by climate funds. To support this project scope, **we have sourced a dataset from [Climate Funds Update](https://climatefundsupdate.org/)**, an independent website supported financially by the Heinrich-Böll-Stiftung foundation in Washington, DC and ODI, a think tank. The Climate Funds Update tracks the amount of money pledged and deployed by multilateral climate funds to assist developing nations in adapting \"climate-reslient development trajectories.\"\n",
    "\n",
    "**Note** that our original project statement of purpose indicated that we would source data about venture capital investments into climate-related companies from various sources. These sources proved difficult to use without payment, so we pivoted slightly to using data freely-available from the Climate Funds Update website.\n",
    "\n",
    "**About the dataset:** the dataset is distributed in an Excel .csv file and is comprised of three worksheets:\n",
    "1. **Fund Status**: describes the various multilateral funds that contribute to climate-related projects in low-income countries\n",
    "2. **Pledges**: the pledges made by various countries to these multilateral funds\n",
    "3. **Projects**: the specific projects in low-income countries that have received pledges and disbursements from multilateral climate funds.\n",
    "\n",
    "The funding data is quoted in USD and is *cumulative* since 2003.\n",
    "\n",
    "The Climate Funds Update considers four financing statuses (quoted directly from [website](https://climatefundsupdate.org/about-us/notes-and-methodology/)):\n",
    "- **Pledges:** represent verbal or signed commitments from donors to provide financial support for a particular fund. All pledges are cumulative.\n",
    "- **Deposits:** represent the funds that have been transferred from the donor into the account(s) of the fund. Also known as committed funds. All deposits are cumulative.\n",
    "- **Approved:** represents funds that have been officially approved and earmarked to a specific project or programme. All approvals on figures are cumulative.\n",
    "- **Disbursed:** represents those funds that have been spent, either through administrative means or directly to an implementation programme or project, with proof of spend. All disbursements on figures are cumulative.\n",
    "\n",
    "Further, the types of finance can take seven forms (again, quoted from the [website](https://climatefundsupdate.org/about-us/notes-and-methodology/)):\n",
    "- **Grant finance** – transfers with no repayment required from recipients\n",
    "- **Technical assistance** – assistance in carrying out policy studies, providing advice, supporting project preparation and implementation, and assisting in technology transfer, normally delivered as a cost-free (grant) service.\n",
    "- **Concessional loans** – loans provided on terms significantly more generous than market rates. The OECD has a definition of concessionality based on the interest rate charged; maturity; and the grace period (interval of time before the first repayment is due) of a loan. Under the OECD, loans are deemed eligible as Official Development Assistance if they have a grant element of at least 25%; however, there is a spectrum of concessionality from “hard” (near-market) loans to soft. (See the OECD DAC’s Glossary of Terms for more information).\n",
    "- **Credit finance** – concessional loans offered at a zero interest rate.\n",
    "- **Non-concessional loans** – loans offered near or at market rates.\n",
    "- **Equity** – finance available on the basis of gaining a share in the receiving entity with the right to receive a portion of the profits and value gain of the business.\n",
    "- **Guarantees** – an undertaking by a guarantor to pay any outstanding amounts owed by the Beneficiary to the Beneficiary or directly to its creditor(s). Guarantees are normally given through a non-cancelable indemnity bond that guarantees the timely payment of interest and repayment of principal to the Creditors (holders of the debt security). The guarantor will only provide finance if the Beneficiary (issuer of the debt security) fails to do so.\n",
    "\n",
    "The Climate Funds Update classifies low-income countries into four categories based on World Bank guidelines. This discrete, ordinal variable is used as a column in the dataset:\n",
    "- **Low-Income:** USD 1,005 or less\n",
    "- **Lower Middle Income:** USD 1,006 to USD 3,975\n",
    "- **Upper-Middle-Income:** USD 3,976 to USD 12,275\n",
    "- **High Income:** USD 12,276 or more\n",
    "\n",
    "The dataset is generally well-structured, curated by the Climate Funds Update."
   ]
  },
  {
   "cell_type": "markdown",
   "id": "05c0dc9c-bef1-4aed-8d93-8ab1322fa5a2",
   "metadata": {},
   "source": [
    "### Examing the Data: Fund Status ###"
   ]
  },
  {
   "cell_type": "code",
   "execution_count": 1,
   "id": "5e3f07ef-3fe3-4daf-9768-f540212d6745",
   "metadata": {},
   "outputs": [
    {
     "name": "stdout",
     "output_type": "stream",
     "text": [
      "Shape:  (30, 8)\n"
     ]
    }
   ],
   "source": [
    "import pandas as pd\n",
    "\n",
    "fund_status_df = pd.read_excel( 'CFU-Website-MASTER-February-2024.xlsx', sheet_name='Fund Status' )\n",
    "print( \"Shape: \", fund_status_df.shape )"
   ]
  },
  {
   "cell_type": "code",
   "execution_count": 2,
   "id": "c2bf38f5-5c2c-4b87-9a70-8a43d5f0dc89",
   "metadata": {},
   "outputs": [
    {
     "data": {
      "text/html": [
       "<div>\n",
       "<style scoped>\n",
       "    .dataframe tbody tr th:only-of-type {\n",
       "        vertical-align: middle;\n",
       "    }\n",
       "\n",
       "    .dataframe tbody tr th {\n",
       "        vertical-align: top;\n",
       "    }\n",
       "\n",
       "    .dataframe thead th {\n",
       "        text-align: right;\n",
       "    }\n",
       "</style>\n",
       "<table border=\"1\" class=\"dataframe\">\n",
       "  <thead>\n",
       "    <tr style=\"text-align: right;\">\n",
       "      <th></th>\n",
       "      <th>Fund</th>\n",
       "      <th>Fund Type</th>\n",
       "      <th>Fund focus</th>\n",
       "      <th>Pledge (USD mn)</th>\n",
       "      <th>Deposit (USD mn)</th>\n",
       "      <th>Approval (USD mn)</th>\n",
       "      <th>Disbursement (USD mn)</th>\n",
       "      <th>Number of projects approved</th>\n",
       "    </tr>\n",
       "  </thead>\n",
       "  <tbody>\n",
       "    <tr>\n",
       "      <th>0</th>\n",
       "      <td>Adaptation for Smallholder Agriculture Program...</td>\n",
       "      <td>Multilateral</td>\n",
       "      <td>Adaptation</td>\n",
       "      <td>382.340000</td>\n",
       "      <td>332.160000</td>\n",
       "      <td>295.28</td>\n",
       "      <td>251.22</td>\n",
       "      <td>43.0</td>\n",
       "    </tr>\n",
       "    <tr>\n",
       "      <th>1</th>\n",
       "      <td>Adaptation for Smallholder Agriculture Program...</td>\n",
       "      <td>Multilateral</td>\n",
       "      <td>Multiple Foci</td>\n",
       "      <td>129.840000</td>\n",
       "      <td>81.040000</td>\n",
       "      <td>17.07</td>\n",
       "      <td>1.45</td>\n",
       "      <td>1.0</td>\n",
       "    </tr>\n",
       "    <tr>\n",
       "      <th>2</th>\n",
       "      <td>Adaptation Fund (AF)</td>\n",
       "      <td>Multilateral</td>\n",
       "      <td>Adaptation</td>\n",
       "      <td>1828.665196</td>\n",
       "      <td>1613.489716</td>\n",
       "      <td>1139.07</td>\n",
       "      <td>697.16</td>\n",
       "      <td>316.0</td>\n",
       "    </tr>\n",
       "    <tr>\n",
       "      <th>3</th>\n",
       "      <td>Amazon Fund</td>\n",
       "      <td>Multi Donor National</td>\n",
       "      <td>Mitigation - REDD</td>\n",
       "      <td>1925.270000</td>\n",
       "      <td>1309.490000</td>\n",
       "      <td>683.56</td>\n",
       "      <td>603.64</td>\n",
       "      <td>105.0</td>\n",
       "    </tr>\n",
       "    <tr>\n",
       "      <th>4</th>\n",
       "      <td>BioCarbon Fund Initiative for Sustainable Fore...</td>\n",
       "      <td>Multilateral</td>\n",
       "      <td>Mitigation - REDD</td>\n",
       "      <td>355.788000</td>\n",
       "      <td>238.840000</td>\n",
       "      <td>86</td>\n",
       "      <td>0.00</td>\n",
       "      <td>6.0</td>\n",
       "    </tr>\n",
       "  </tbody>\n",
       "</table>\n",
       "</div>"
      ],
      "text/plain": [
       "                                                Fund             Fund Type  \\\n",
       "0  Adaptation for Smallholder Agriculture Program...          Multilateral   \n",
       "1  Adaptation for Smallholder Agriculture Program...          Multilateral   \n",
       "2                               Adaptation Fund (AF)          Multilateral   \n",
       "3                                        Amazon Fund  Multi Donor National   \n",
       "4  BioCarbon Fund Initiative for Sustainable Fore...          Multilateral   \n",
       "\n",
       "          Fund focus  Pledge (USD mn)  Deposit (USD mn) Approval (USD mn)  \\\n",
       "0         Adaptation       382.340000        332.160000            295.28   \n",
       "1      Multiple Foci       129.840000         81.040000             17.07   \n",
       "2         Adaptation      1828.665196       1613.489716           1139.07   \n",
       "3  Mitigation - REDD      1925.270000       1309.490000            683.56   \n",
       "4  Mitigation - REDD       355.788000        238.840000                86   \n",
       "\n",
       "   Disbursement (USD mn)  Number of projects approved  \n",
       "0                 251.22                         43.0  \n",
       "1                   1.45                          1.0  \n",
       "2                 697.16                        316.0  \n",
       "3                 603.64                        105.0  \n",
       "4                   0.00                          6.0  "
      ]
     },
     "execution_count": 2,
     "metadata": {},
     "output_type": "execute_result"
    }
   ],
   "source": [
    "fund_status_df.head()"
   ]
  },
  {
   "cell_type": "markdown",
   "id": "5dac38c0-1746-4368-aed7-311b259946e7",
   "metadata": {},
   "source": [
    "### Examing the Data: Pledges ###"
   ]
  },
  {
   "cell_type": "code",
   "execution_count": 3,
   "id": "f713d48e-22b9-4425-8237-c086231da630",
   "metadata": {},
   "outputs": [
    {
     "name": "stdout",
     "output_type": "stream",
     "text": [
      "Shape:  (522, 9)\n"
     ]
    }
   ],
   "source": [
    "pledges_df = pd.read_excel( 'CFU-Website-MASTER-February-2024.xlsx', sheet_name='Pledges' )\n",
    "print( \"Shape: \", pledges_df.shape )"
   ]
  },
  {
   "cell_type": "code",
   "execution_count": 4,
   "id": "b6894665-d249-463c-b4d8-16025a01c08b",
   "metadata": {},
   "outputs": [
    {
     "data": {
      "text/html": [
       "<div>\n",
       "<style scoped>\n",
       "    .dataframe tbody tr th:only-of-type {\n",
       "        vertical-align: middle;\n",
       "    }\n",
       "\n",
       "    .dataframe tbody tr th {\n",
       "        vertical-align: top;\n",
       "    }\n",
       "\n",
       "    .dataframe thead th {\n",
       "        text-align: right;\n",
       "    }\n",
       "</style>\n",
       "<table border=\"1\" class=\"dataframe\">\n",
       "  <thead>\n",
       "    <tr style=\"text-align: right;\">\n",
       "      <th></th>\n",
       "      <th>Fund</th>\n",
       "      <th>Fund Type</th>\n",
       "      <th>Fund focus</th>\n",
       "      <th>Contributor</th>\n",
       "      <th>Country</th>\n",
       "      <th>Country Income Level</th>\n",
       "      <th>Region</th>\n",
       "      <th>Pledged (USD million current)</th>\n",
       "      <th>Deposited (USD million current)</th>\n",
       "    </tr>\n",
       "  </thead>\n",
       "  <tbody>\n",
       "    <tr>\n",
       "      <th>0</th>\n",
       "      <td>Adaptation for Smallholder Agriculture Program...</td>\n",
       "      <td>Multilateral</td>\n",
       "      <td>Adaptation</td>\n",
       "      <td>Belgium</td>\n",
       "      <td>Belgium</td>\n",
       "      <td>High income</td>\n",
       "      <td>Europe &amp; Central Asia</td>\n",
       "      <td>8.58</td>\n",
       "      <td>7.86</td>\n",
       "    </tr>\n",
       "    <tr>\n",
       "      <th>1</th>\n",
       "      <td>Adaptation for Smallholder Agriculture Program...</td>\n",
       "      <td>Multilateral</td>\n",
       "      <td>Adaptation</td>\n",
       "      <td>Flanders</td>\n",
       "      <td>Belgium</td>\n",
       "      <td>High income</td>\n",
       "      <td>Europe &amp; Central Asia</td>\n",
       "      <td>2.38</td>\n",
       "      <td>2.38</td>\n",
       "    </tr>\n",
       "    <tr>\n",
       "      <th>2</th>\n",
       "      <td>Adaptation for Smallholder Agriculture Program...</td>\n",
       "      <td>Multilateral</td>\n",
       "      <td>Adaptation</td>\n",
       "      <td>Canada</td>\n",
       "      <td>Canada</td>\n",
       "      <td>High income</td>\n",
       "      <td>North America</td>\n",
       "      <td>20.35</td>\n",
       "      <td>19.88</td>\n",
       "    </tr>\n",
       "    <tr>\n",
       "      <th>3</th>\n",
       "      <td>Adaptation for Smallholder Agriculture Program...</td>\n",
       "      <td>Multilateral</td>\n",
       "      <td>Adaptation</td>\n",
       "      <td>Finland</td>\n",
       "      <td>Finland</td>\n",
       "      <td>High income</td>\n",
       "      <td>Europe &amp; Central Asia</td>\n",
       "      <td>7.15</td>\n",
       "      <td>6.83</td>\n",
       "    </tr>\n",
       "    <tr>\n",
       "      <th>4</th>\n",
       "      <td>Adaptation for Smallholder Agriculture Program...</td>\n",
       "      <td>Multilateral</td>\n",
       "      <td>Adaptation</td>\n",
       "      <td>France</td>\n",
       "      <td>France</td>\n",
       "      <td>High income</td>\n",
       "      <td>Europe &amp; Central Asia</td>\n",
       "      <td>0.67</td>\n",
       "      <td>0.67</td>\n",
       "    </tr>\n",
       "  </tbody>\n",
       "</table>\n",
       "</div>"
      ],
      "text/plain": [
       "                                                Fund     Fund Type  \\\n",
       "0  Adaptation for Smallholder Agriculture Program...  Multilateral   \n",
       "1  Adaptation for Smallholder Agriculture Program...  Multilateral   \n",
       "2  Adaptation for Smallholder Agriculture Program...  Multilateral   \n",
       "3  Adaptation for Smallholder Agriculture Program...  Multilateral   \n",
       "4  Adaptation for Smallholder Agriculture Program...  Multilateral   \n",
       "\n",
       "   Fund focus Contributor  Country Country Income Level  \\\n",
       "0  Adaptation     Belgium  Belgium          High income   \n",
       "1  Adaptation    Flanders  Belgium          High income   \n",
       "2  Adaptation      Canada   Canada          High income   \n",
       "3  Adaptation     Finland  Finland          High income   \n",
       "4  Adaptation      France   France          High income   \n",
       "\n",
       "                  Region  Pledged (USD million current)  \\\n",
       "0  Europe & Central Asia                           8.58   \n",
       "1  Europe & Central Asia                           2.38   \n",
       "2          North America                          20.35   \n",
       "3  Europe & Central Asia                           7.15   \n",
       "4  Europe & Central Asia                           0.67   \n",
       "\n",
       "   Deposited (USD million current)  \n",
       "0                             7.86  \n",
       "1                             2.38  \n",
       "2                            19.88  \n",
       "3                             6.83  \n",
       "4                             0.67  "
      ]
     },
     "execution_count": 4,
     "metadata": {},
     "output_type": "execute_result"
    }
   ],
   "source": [
    "pledges_df.head()"
   ]
  },
  {
   "cell_type": "markdown",
   "id": "c5a8fd91-ed83-4d15-b1b3-ca27568faa00",
   "metadata": {},
   "source": [
    "### Examing the Data: Projects ###"
   ]
  },
  {
   "cell_type": "code",
   "execution_count": 5,
   "id": "e75a72b0-c718-41af-b77d-ca63289f9f1f",
   "metadata": {},
   "outputs": [
    {
     "name": "stdout",
     "output_type": "stream",
     "text": [
      "Shape:  (3428, 26)\n"
     ]
    }
   ],
   "source": [
    "projects_df = pd.read_excel( 'CFU-Website-MASTER-February-2024.xlsx', sheet_name='Projects' )\n",
    "print( \"Shape: \", projects_df.shape )"
   ]
  },
  {
   "cell_type": "code",
   "execution_count": 6,
   "id": "eb85bcb3-6c00-4450-9454-f188701c48f5",
   "metadata": {},
   "outputs": [
    {
     "data": {
      "text/html": [
       "<div>\n",
       "<style scoped>\n",
       "    .dataframe tbody tr th:only-of-type {\n",
       "        vertical-align: middle;\n",
       "    }\n",
       "\n",
       "    .dataframe tbody tr th {\n",
       "        vertical-align: top;\n",
       "    }\n",
       "\n",
       "    .dataframe thead th {\n",
       "        text-align: right;\n",
       "    }\n",
       "</style>\n",
       "<table border=\"1\" class=\"dataframe\">\n",
       "  <thead>\n",
       "    <tr style=\"text-align: right;\">\n",
       "      <th></th>\n",
       "      <th>Fund</th>\n",
       "      <th>Fund Type</th>\n",
       "      <th>Country</th>\n",
       "      <th>World Bank Region</th>\n",
       "      <th>Income Classification</th>\n",
       "      <th>Name of Project</th>\n",
       "      <th>Theme/Objective</th>\n",
       "      <th>Sector (OECD)</th>\n",
       "      <th>DAC 5 Code</th>\n",
       "      <th>Sub-Sector</th>\n",
       "      <th>...</th>\n",
       "      <th>End year</th>\n",
       "      <th>Concessional loan</th>\n",
       "      <th>Grant</th>\n",
       "      <th>Guarantee</th>\n",
       "      <th>Equity</th>\n",
       "      <th>Amount of Funding Approved (USD millions)</th>\n",
       "      <th>Disbursed (USD millions)</th>\n",
       "      <th>Least Developed Country</th>\n",
       "      <th>Small Island Developing Nation</th>\n",
       "      <th>Fragile or Conflict Affected State</th>\n",
       "    </tr>\n",
       "  </thead>\n",
       "  <tbody>\n",
       "    <tr>\n",
       "      <th>0</th>\n",
       "      <td>Green Climate Fund (GCF-1)</td>\n",
       "      <td>Multilateral</td>\n",
       "      <td>Sri Lanka</td>\n",
       "      <td>South Asia</td>\n",
       "      <td>Lower middle income</td>\n",
       "      <td>(FP124) Strengthening Climate Resilience of Su...</td>\n",
       "      <td>Adaptation</td>\n",
       "      <td>Water Supply &amp; Sanitation</td>\n",
       "      <td>DAC140_</td>\n",
       "      <td>Water sector policy and administrative management</td>\n",
       "      <td>...</td>\n",
       "      <td>2026</td>\n",
       "      <td>NaN</td>\n",
       "      <td>39.78</td>\n",
       "      <td>NaN</td>\n",
       "      <td>NaN</td>\n",
       "      <td>39.78</td>\n",
       "      <td>4.18</td>\n",
       "      <td>NaN</td>\n",
       "      <td>NaN</td>\n",
       "      <td>NaN</td>\n",
       "    </tr>\n",
       "    <tr>\n",
       "      <th>1</th>\n",
       "      <td>Global Environment Facility (GEF7)</td>\n",
       "      <td>Multilateral</td>\n",
       "      <td>India</td>\n",
       "      <td>South Asia</td>\n",
       "      <td>Lower middle income</td>\n",
       "      <td>Accelerating adoption of super-efficient techn...</td>\n",
       "      <td>Multiple Foci</td>\n",
       "      <td>Energy</td>\n",
       "      <td>DAC230_</td>\n",
       "      <td>NaN</td>\n",
       "      <td>...</td>\n",
       "      <td>NaN</td>\n",
       "      <td>NaN</td>\n",
       "      <td>4.42</td>\n",
       "      <td>NaN</td>\n",
       "      <td>NaN</td>\n",
       "      <td>4.42</td>\n",
       "      <td>NaN</td>\n",
       "      <td>NaN</td>\n",
       "      <td>NaN</td>\n",
       "      <td>NaN</td>\n",
       "    </tr>\n",
       "    <tr>\n",
       "      <th>2</th>\n",
       "      <td>Global Environment Facility (GEF4)</td>\n",
       "      <td>Multilateral</td>\n",
       "      <td>India</td>\n",
       "      <td>South Asia</td>\n",
       "      <td>Lower middle income</td>\n",
       "      <td>Achieving Reduction in GHG Emissions through A...</td>\n",
       "      <td>Mitigation - General</td>\n",
       "      <td>Energy</td>\n",
       "      <td>DAC230_</td>\n",
       "      <td>Energy generation, distribution and efficiency...</td>\n",
       "      <td>...</td>\n",
       "      <td>NaN</td>\n",
       "      <td>NaN</td>\n",
       "      <td>0.25</td>\n",
       "      <td>NaN</td>\n",
       "      <td>NaN</td>\n",
       "      <td>0.25</td>\n",
       "      <td>0.25</td>\n",
       "      <td>NaN</td>\n",
       "      <td>NaN</td>\n",
       "      <td>NaN</td>\n",
       "    </tr>\n",
       "    <tr>\n",
       "      <th>3</th>\n",
       "      <td>Least Developed Countries Fund (LDCF)</td>\n",
       "      <td>Multilateral</td>\n",
       "      <td>Afghanistan</td>\n",
       "      <td>South Asia</td>\n",
       "      <td>Low income</td>\n",
       "      <td>Adapting Afghan Communities to Climate-Induced...</td>\n",
       "      <td>Adaptation</td>\n",
       "      <td>Disaster Prevention &amp; Preparedness</td>\n",
       "      <td>DAC740_</td>\n",
       "      <td>Disaster prevention and preparedness</td>\n",
       "      <td>...</td>\n",
       "      <td>NaN</td>\n",
       "      <td>NaN</td>\n",
       "      <td>5.60</td>\n",
       "      <td>NaN</td>\n",
       "      <td>NaN</td>\n",
       "      <td>5.60</td>\n",
       "      <td>NaN</td>\n",
       "      <td>LDC</td>\n",
       "      <td>NaN</td>\n",
       "      <td>FCAS</td>\n",
       "    </tr>\n",
       "    <tr>\n",
       "      <th>4</th>\n",
       "      <td>Least Developed Countries Fund (LDCF)</td>\n",
       "      <td>Multilateral</td>\n",
       "      <td>Bhutan</td>\n",
       "      <td>South Asia</td>\n",
       "      <td>Lower middle income</td>\n",
       "      <td>Enhancing the Climate Resilience of Urban Land...</td>\n",
       "      <td>Adaptation</td>\n",
       "      <td>Disaster Prevention &amp; Preparedness</td>\n",
       "      <td>DAC740_</td>\n",
       "      <td>Multi-hazard response preparedness</td>\n",
       "      <td>...</td>\n",
       "      <td>NaN</td>\n",
       "      <td>NaN</td>\n",
       "      <td>18.05</td>\n",
       "      <td>NaN</td>\n",
       "      <td>NaN</td>\n",
       "      <td>18.05</td>\n",
       "      <td>NaN</td>\n",
       "      <td>LDC</td>\n",
       "      <td>NaN</td>\n",
       "      <td>NaN</td>\n",
       "    </tr>\n",
       "  </tbody>\n",
       "</table>\n",
       "<p>5 rows × 26 columns</p>\n",
       "</div>"
      ],
      "text/plain": [
       "                                    Fund     Fund Type      Country  \\\n",
       "0             Green Climate Fund (GCF-1)  Multilateral    Sri Lanka   \n",
       "1     Global Environment Facility (GEF7)  Multilateral        India   \n",
       "2     Global Environment Facility (GEF4)  Multilateral        India   \n",
       "3  Least Developed Countries Fund (LDCF)  Multilateral  Afghanistan   \n",
       "4  Least Developed Countries Fund (LDCF)  Multilateral       Bhutan   \n",
       "\n",
       "  World Bank Region Income Classification  \\\n",
       "0        South Asia   Lower middle income   \n",
       "1        South Asia   Lower middle income   \n",
       "2        South Asia   Lower middle income   \n",
       "3        South Asia            Low income   \n",
       "4        South Asia   Lower middle income   \n",
       "\n",
       "                                     Name of Project       Theme/Objective  \\\n",
       "0  (FP124) Strengthening Climate Resilience of Su...            Adaptation   \n",
       "1  Accelerating adoption of super-efficient techn...         Multiple Foci   \n",
       "2  Achieving Reduction in GHG Emissions through A...  Mitigation - General   \n",
       "3  Adapting Afghan Communities to Climate-Induced...            Adaptation   \n",
       "4  Enhancing the Climate Resilience of Urban Land...            Adaptation   \n",
       "\n",
       "                        Sector (OECD) DAC 5 Code  \\\n",
       "0           Water Supply & Sanitation    DAC140_   \n",
       "1                              Energy    DAC230_   \n",
       "2                              Energy    DAC230_   \n",
       "3  Disaster Prevention & Preparedness    DAC740_   \n",
       "4  Disaster Prevention & Preparedness    DAC740_   \n",
       "\n",
       "                                          Sub-Sector  ... End year  \\\n",
       "0  Water sector policy and administrative management  ...     2026   \n",
       "1                                                NaN  ...      NaN   \n",
       "2  Energy generation, distribution and efficiency...  ...      NaN   \n",
       "3               Disaster prevention and preparedness  ...      NaN   \n",
       "4                 Multi-hazard response preparedness  ...      NaN   \n",
       "\n",
       "  Concessional loan  Grant Guarantee Equity  \\\n",
       "0               NaN  39.78       NaN    NaN   \n",
       "1               NaN   4.42       NaN    NaN   \n",
       "2               NaN   0.25       NaN    NaN   \n",
       "3               NaN   5.60       NaN    NaN   \n",
       "4               NaN  18.05       NaN    NaN   \n",
       "\n",
       "   Amount of Funding Approved (USD millions)  Disbursed (USD millions)  \\\n",
       "0                                      39.78                      4.18   \n",
       "1                                       4.42                       NaN   \n",
       "2                                       0.25                      0.25   \n",
       "3                                       5.60                       NaN   \n",
       "4                                      18.05                       NaN   \n",
       "\n",
       "   Least Developed Country  Small Island Developing Nation  \\\n",
       "0                      NaN                             NaN   \n",
       "1                      NaN                             NaN   \n",
       "2                      NaN                             NaN   \n",
       "3                      LDC                             NaN   \n",
       "4                      LDC                             NaN   \n",
       "\n",
       "  Fragile or Conflict Affected State  \n",
       "0                                NaN  \n",
       "1                                NaN  \n",
       "2                                NaN  \n",
       "3                               FCAS  \n",
       "4                                NaN  \n",
       "\n",
       "[5 rows x 26 columns]"
      ]
     },
     "execution_count": 6,
     "metadata": {},
     "output_type": "execute_result"
    }
   ],
   "source": [
    "projects_df.head()"
   ]
  },
  {
   "cell_type": "markdown",
   "id": "1511a6c8-4c29-4fbe-94da-57de8b7a0a44",
   "metadata": {},
   "source": [
    "## Visually examining the data: projects approved by country ##"
   ]
  },
  {
   "cell_type": "code",
   "execution_count": 14,
   "id": "0c6f1935-14b9-4ee6-9204-3fe4d3e6e591",
   "metadata": {},
   "outputs": [
    {
     "name": "stdout",
     "output_type": "stream",
     "text": [
      "Grouped shape:  (324, 2)\n"
     ]
    },
    {
     "data": {
      "image/png": "[encoded data removed]",
      "text/plain": [
       "<Figure size 720x432 with 1 Axes>"
      ]
     },
     "metadata": {
      "needs_background": "light"
     },
     "output_type": "display_data"
    }
   ],
   "source": [
    "import matplotlib.pyplot as plt\n",
    "import numpy as np\n",
    "\n",
    "top_countries = 50\n",
    "\n",
    "grouped_project_funding = projects_df[ [ 'Country', 'Amount of Funding Approved (USD millions)' ] ]\n",
    "grouped_project_funding = grouped_project_funding.rename( columns={ 'Amount of Funding Approved (USD millions)': 'Funding' } )\n",
    "grouped_project_funding = grouped_project_funding.groupby( 'Country' )[ 'Funding' ].sum().reset_index()\n",
    "grouped_project_funding = grouped_project_funding.sort_values( by='Funding', ascending=False )\n",
    "print( \"Grouped shape: \", grouped_project_funding.shape )\n",
    "\n",
    "fig, ax = plt.subplots( figsize=( 10, 6 ) )\n",
    "plt.bar( grouped_project_funding.iloc[ 0:top_countries ][ 'Country' ], grouped_project_funding[ 'Funding' ][ 0:top_countries ], color='darkmagenta' )\n",
    "ax.set_xticks( np.arange( top_countries ) )\n",
    "ax.set_xticklabels(\n",
    "    [ country[ :10 ] for country in grouped_project_funding.iloc[ 0:top_countries ][ 'Country' ] ], ## drop >10 chars\n",
    "    rotation=45,\n",
    "    fontsize=10,\n",
    "    ha='right'\n",
    ")\n",
    "\n",
    "plt.xlabel( \"Country\" )\n",
    "plt.ylabel(\"Funding (USD MM)\")\n",
    "plt.title( f\"Top {top_countries} Countries by Approved Funding Amount\" )\n",
    "\n",
    "plt.tight_layout()\n",
    "plt.show();"
   ]
  },
  {
   "cell_type": "markdown",
   "id": "51eb0779-571e-459f-bc5f-6fb63a9c1b2f",
   "metadata": {},
   "source": [
    "## Visually examining the data: funding pledged by country ##"
   ]
  },
  {
   "cell_type": "code",
   "execution_count": 16,
   "id": "270e086d-2b4b-4b8e-ba5b-b49cd05ca256",
   "metadata": {},
   "outputs": [
    {
     "name": "stdout",
     "output_type": "stream",
     "text": [
      "Grouped shape:  (68, 2)\n"
     ]
    },
    {
     "data": {
      "image/png": "[encoded data removed]",
      "text/plain": [
       "<Figure size 720x432 with 1 Axes>"
      ]
     },
     "metadata": {
      "needs_background": "light"
     },
     "output_type": "display_data"
    }
   ],
   "source": [
    "import matplotlib.pyplot as plt\n",
    "import numpy as np\n",
    "\n",
    "top_countries = 50\n",
    "\n",
    "grouped_project_pledged = pledges_df[ [ 'Country', 'Pledged (USD million current)' ] ]\n",
    "grouped_project_pledged = grouped_project_pledged.rename( columns={ 'Pledged (USD million current)': 'Pledged' } )\n",
    "grouped_project_pledged = grouped_project_pledged.groupby( 'Country' )[ 'Pledged' ].sum().reset_index()\n",
    "grouped_project_pledged = grouped_project_pledged.sort_values( by='Pledged', ascending=False )\n",
    "print( \"Grouped shape: \", grouped_project_pledged.shape )\n",
    "\n",
    "fig, ax = plt.subplots( figsize=( 10, 6 ) )\n",
    "plt.bar( grouped_project_pledged.iloc[ 0:top_countries ][ 'Country' ], grouped_project_pledged[ 'Pledged' ][ 0:top_countries ], color='dodgerblue' )\n",
    "ax.set_xticks( np.arange( top_countries ) )\n",
    "ax.set_xticklabels(\n",
    "    [ country[ :10 ] for country in grouped_project_pledged.iloc[ 0:top_countries ][ 'Country' ] ], ## drop >10 chars\n",
    "    rotation=45,\n",
    "    fontsize=10,\n",
    "    ha='right'\n",
    ")\n",
    "\n",
    "plt.xlabel( \"Country\" )\n",
    "plt.ylabel(\"Funding Pledged (USD MM)\")\n",
    "plt.title( f\"Top {top_countries} Countries by Pledged Funding Amount\" )\n",
    "\n",
    "plt.tight_layout()\n",
    "plt.show();"
   ]
  },
  {
   "cell_type": "markdown",
   "id": "c3607609-ef3e-4e3f-9172-3acf68e0a5a4",
   "metadata": {},
   "source": [
    "## Visually examining the data: distribution of funding, all countries ##"
   ]
  },
  {
   "cell_type": "code",
   "execution_count": 21,
   "id": "d76b1cc4-2f52-402e-b563-ad160e04e569",
   "metadata": {},
   "outputs": [
    {
     "data": {
      "image/png": "[encoded data removed]",
      "text/plain": [
       "<Figure size 720x432 with 2 Axes>"
      ]
     },
     "metadata": {
      "needs_background": "light"
     },
     "output_type": "display_data"
    }
   ],
   "source": [
    "fig, axes = plt.subplots( ncols=2, nrows=1, figsize=( 10, 6 ) )\n",
    "\n",
    "## normal y scale\n",
    "axes[ 0 ].boxplot( grouped_project_funding[ 'Funding' ] )\n",
    "axes[ 0 ].set_xlabel( \"Distribution\" )\n",
    "axes[ 0 ].set_ylabel(\"Funding (USD MM)\")\n",
    "axes[ 0 ].set_title( f\"Normal Scale\" )\n",
    "\n",
    "## logged y scale\n",
    "axes[ 1 ].boxplot( grouped_project_funding[ 'Funding' ] )\n",
    "axes[ 1 ].set_yscale( 'log' )\n",
    "axes[ 1 ].set_xlabel( \"Distribution\" )\n",
    "axes[ 1 ].set_ylabel(\"Funding (USD MM)\")\n",
    "axes[ 1 ].set_title( f\"Log Scale\" )\n",
    "\n",
    "plt.suptitle( \"Distribution of Project Financing\", fontsize=22 )\n",
    "plt.tight_layout()\n",
    "plt.show();"
   ]
  },
  {
   "cell_type": "markdown",
   "id": "5edfef57-ba02-4eb3-9086-d3a4ea0751ef",
   "metadata": {},
   "source": [
    "## Potential Data Issues ##"
   ]
  },
  {
   "cell_type": "markdown",
   "id": "83f4f1ab-52d2-42ad-b28a-0ccb7a503499",
   "metadata": {},
   "source": [
    "Given that the data has already been curated and mostly pre-processed by the Climate Funds Update, we don't foresee many adaptations being necessary in order to deliver our project.\n",
    "\n",
    "**Data missingness:** this doesn't appear to be an issue. Very few columns are missing values, and in the cases where values are missing, these are usually for specific dummy indicators such as eg., whether a project received equity financing or not. \n",
    "\n",
    "**Data imbalance:** this is potentially an issue given the skew of funding by country and by Sector. \n",
    "- Where appropriate (eg., where these dimensions are important considerations in a classifier), in order to deal with data imbalance across countries and sectors, it seems appropriate to resample data such that most countries and sectors are represented roughly equally.\n",
    "\n",
    "**Data scaling:** all financing data has already been converted to USD, and the dataset doesn't feature any variables that feature wildly divergent scales (funding is the primary quantitative variable of interest -- most other variables are categorical)."
   ]
  },
  {
   "cell_type": "code",
   "execution_count": null,
   "id": "eb1e0293-c4c5-4f10-970a-564ba52f8a91",
   "metadata": {},
   "outputs": [],
   "source": []
  }
 ],
 "metadata": {
  "kernelspec": {
   "display_name": "Python 3 (ipykernel)",
   "language": "python",
   "name": "python3"
  },
  "language_info": {
   "codemirror_mode": {
    "name": "ipython",
    "version": 3
   },
   "file_extension": ".py",
   "mimetype": "text/x-python",
   "name": "python",
   "nbconvert_exporter": "python",
   "pygments_lexer": "ipython3",
   "version": "3.9.19"
  }
 },
 "nbformat": 4,
 "nbformat_minor": 5
}
